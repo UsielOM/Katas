{
 "cells": [
  {
   "cell_type": "markdown",
   "metadata": {},
   "source": [
    "# KATA 9\n",
    "\n",
    "Ejercicio: Uso de funciones en Python\n",
    "\n",
    "Ejercicio 1: Trabajar con argumentos en funciones\n",
    "\n",
    "Los argumentos requeridos en las funciones se utilizan cuando \n",
    "\n",
    "las funciones necesitan que esos argumentos funcionen \n",
    "\n",
    "correctamente. En este ejercicio, construirás un informe de \n",
    "\n",
    "combustible que requiere información de varias ubicaciones de \n",
    "\n",
    "combustible en todo el cohete.\n",
    "\n",
    "Comienza por crear una función que necesite tres lecturas de \n",
    "\n",
    "combustible y devuelva un informe:"
   ]
  },
  {
   "cell_type": "code",
   "execution_count": 2,
   "metadata": {},
   "outputs": [
    {
     "name": "stdout",
     "output_type": "stream",
     "text": [
      " Tanque : \n",
      "    Promedio : 86.66666666666667%\n",
      "    voli_tank: 120%\n",
      "    mundo_tank: 50%\n",
      "    bardo_tank: 90%\n",
      "    \n"
     ]
    }
   ],
   "source": [
    "# Función para leer 3 tanques de combustible y muestre el promedio\n",
    "\n",
    "def tanquescom(voli_tank, mundo_tank, bardo_tank):\n",
    "    promedio = (voli_tank + mundo_tank + bardo_tank) / 3\n",
    "\n",
    "    return f\"\"\" Tanque : \n",
    "    Promedio : {promedio}%\n",
    "    voli_tank: {voli_tank}%\n",
    "    mundo_tank: {mundo_tank}%\n",
    "    bardo_tank: {bardo_tank}%\n",
    "    \"\"\"\n",
    "print(tanquescom (120,50,90))"
   ]
  },
  {
   "cell_type": "markdown",
   "metadata": {},
   "source": [
    "Ahora que hemos definido la función de informes, vamos a comprobarlo. Para esta \n",
    "\n",
    "misión, los tanques no están llenos:"
   ]
  },
  {
   "cell_type": "code",
   "execution_count": null,
   "metadata": {},
   "outputs": [],
   "source": [
    "# Llamamos a la función que genera el reporte print(funcion(tanque1, tanque2, tanque3))\n",
    "print(tanquescom (120,50,90))\n"
   ]
  },
  {
   "cell_type": "markdown",
   "metadata": {},
   "source": [
    "En lugar de simplemente crear el informe, la función también está calculando el \n",
    "\n",
    "promedio. Mejora la legibilidad extrayendo el cálculo promedio de la función en\n",
    "\n",
    "una nueva función para que el promedio se pueda hacer de forma independiente:"
   ]
  },
  {
   "cell_type": "code",
   "execution_count": null,
   "metadata": {},
   "outputs": [],
   "source": [
    "# Función promedio \n",
    "def promedio(values):\n",
    "    total = sum(values)\n",
    "    numero = len(values)\n",
    "    return total / numero\n",
    "\n",
    "# Test the averaging function with a list of integers:\n",
    "promedio([80, 85, 81]) "
   ]
  },
  {
   "cell_type": "markdown",
   "metadata": {},
   "source": [
    "Ahora actualiza la función de informes para llamando a l"
   ]
  },
  {
   "cell_type": "code",
   "execution_count": null,
   "metadata": {},
   "outputs": [],
   "source": [
    "# Actualiza la función\n",
    "def tanquescom(voli_tank, mundo_tank, bardo_tank):\n",
    "    return f\"\"\"Fuel Report:\n",
    "    tanquescom: {promedio([voli_tank, mundo_tank, bardo_tank])}%\n",
    "    voli_tank: {voli_tank}%\n",
    "    mundo_tank: {mundo_tank}%\n",
    "    bardo_tank: {bardo_tank}%\n",
    "    \"\"\"\n",
    "\n",
    "# Call the updated function again with different values\n",
    "print(tanquescom(88, 76, 70))"
   ]
  },
  {
   "cell_type": "code",
   "execution_count": 5,
   "metadata": {},
   "outputs": [
    {
     "name": "stdout",
     "output_type": "stream",
     "text": [
      " Tanque : \n",
      "    Promedio : 86.66666666666667%\n",
      "    voli_tank: 120%\n",
      "    mundo_tank: 50%\n",
      "    bardo_tank: 90%\n",
      "    \n",
      "Reporte:\n",
      "    tanquescom: 78.0%\n",
      "    voli_tank: 88%\n",
      "    mundo_tank: 76%\n",
      "    bardo_tank: 70%\n",
      "    \n"
     ]
    }
   ],
   "source": [
    "def tanquescom(voli_tank, mundo_tank, bardo_tank):\n",
    "    promedio = (voli_tank + mundo_tank + bardo_tank) / 3\n",
    "\n",
    "    return f\"\"\" Tanque : \n",
    "    Promedio : {promedio}%\n",
    "    voli_tank: {voli_tank}%\n",
    "    mundo_tank: {mundo_tank}%\n",
    "    bardo_tank: {bardo_tank}%\n",
    "    \"\"\"\n",
    "print(tanquescom (120,50,90))\n",
    "\n",
    "# Función promedio \n",
    "def promedio(values):\n",
    "    total = sum(values)\n",
    "    numero = len(values)\n",
    "    return total / numero\n",
    "\n",
    "# Test the averaging function with a list of integers:\n",
    "promedio([80, 85, 81]) \n",
    "\n",
    "\n",
    "\n",
    "\n",
    "\n",
    "# Actualiza la función\n",
    "def tanquescom(voli_tank, mundo_tank, bardo_tank):\n",
    "    return f\"\"\"Reporte:\n",
    "    tanquescom: {promedio([voli_tank, mundo_tank, bardo_tank])}%\n",
    "    voli_tank: {voli_tank}%\n",
    "    mundo_tank: {mundo_tank}%\n",
    "    bardo_tank: {bardo_tank}%\n",
    "    \"\"\"\n",
    "\n",
    "# Call the updated function again with different values\n",
    "print(tanquescom(88, 76, 70))"
   ]
  },
  {
   "cell_type": "markdown",
   "metadata": {},
   "source": [
    "Ejercicio 2: Trabajo con argumentos de palabra clave\n",
    "\n",
    "Ejercicio : Trabajar con argumentos de palabras clave en funciones\n",
    "\n",
    "En este ejercicio, construirás un informe de cohete que requiere varias piezas \n",
    "\n",
    "de información, como el tiempo hasta el destino, el combustible a la izquierda \n",
    "\n",
    "y el nombre del destino. Comienza por crear una función que creará un informe \n",
    "\n",
    "preciso de la misión:"
   ]
  },
  {
   "cell_type": "code",
   "execution_count": null,
   "metadata": {},
   "outputs": [],
   "source": [
    "# Función con un informe preciso de la misión. Considera hora de prelanzamiento, tiempo de vuelo, destino, tanque externo y tanque interno\n",
    "\n",
    "def mission_report(pre_launch_time, flight_time, destination, external_tank, main_tank):\n",
    "    return f\"\"\"\n",
    "    Mission to {destination}\n",
    "    Total travel time: {pre_launch_time + flight_time} minutes\n",
    "    Total fuel left: {external_tank + main_tank} gallons\n",
    "    \"\"\"\n",
    "\n",
    "print(mission_report(14, 51, \"Moon\", 200000, 300000))\n",
    "\n",
    "\n"
   ]
  },
  {
   "cell_type": "code",
   "execution_count": 1,
   "metadata": {},
   "outputs": [
    {
     "name": "stdout",
     "output_type": "stream",
     "text": [
      "\n",
      "    Mision: Saturno\n",
      "    Tiempo Total de la Micion: 72 minutes\n",
      "    Combustible disponible: 20000 GL\n",
      "    \n"
     ]
    }
   ],
   "source": [
    "# Función con un informe preciso de la misión. Considera hora de prelanzamiento, tiempo de vuelo, destino, tanque externo y tanque interno\n",
    "def informe(prelanzamiento_hora,tiempo_de_vuelo,destino,tanque_ex,tanque_in):\n",
    "    return f\"\"\"\n",
    "    Mision: {destino}\n",
    "    Tiempo Total de la Micion: {tiempo_de_vuelo + prelanzamiento_hora} minutos\n",
    "    Combustible disponible: {tanque_ex + tanque_in} GL\n",
    "    \"\"\"\n",
    "print(informe (24,48,\"Saturno\",10000,10000))"
   ]
  },
  {
   "cell_type": "markdown",
   "metadata": {},
   "source": [
    "La función es problemática porque no se puede adaptar para minutos adicionales o \n",
    "\n",
    "tanques adicionales de combustible. Hazlo más flexible permitiendo cualquier \n",
    "\n",
    "número de pasos basados en el tiempo y cualquier número de tanques. En lugar de \n",
    "\n",
    "usar *args y **kwargs, aprovecha el hecho de que puedes usar cualquier nombre \n",
    "\n",
    "que desees. Asegurate que la función sea más legible mediante el uso de nombres \n",
    "\n",
    "de variables que están asociados con las entradas, como *minutes y \n",
    "\n",
    "**fuel_reservoirs:"
   ]
  },
  {
   "cell_type": "code",
   "execution_count": null,
   "metadata": {},
   "outputs": [],
   "source": [
    "# Escribe tu nueva función de reporte considerando lo anterior\n",
    "\n",
    "def mission_report(destination, *minutes, **fuel_reservoirs):\n",
    "    return f\"\"\"\n",
    "    Mission to {destination}\n",
    "    Total travel time: {sum(minutes)} minutes\n",
    "    Total fuel left: {sum(fuel_reservoirs.values())}\n",
    "    \"\"\"\n",
    "\n",
    "print(mission_report(\"Moon\", 10, 15, 51, main=300000, external=200000))\n"
   ]
  },
  {
   "cell_type": "code",
   "execution_count": 3,
   "metadata": {},
   "outputs": [
    {
     "name": "stdout",
     "output_type": "stream",
     "text": [
      "\n",
      "    Mision: Satruno\n",
      "    Tiempo Total de la Micion: 132 minutos\n",
      "    Combustible disponible: 11000\n",
      "    \n"
     ]
    }
   ],
   "source": [
    "# Escribe tu nueva función de reporte considerando lo anterior\n",
    "def informe(destino, *minutos, **combustible):\n",
    "    return f\"\"\"\n",
    "    Mision: {destino}\n",
    "    Tiempo Total de la Micion: {sum(minutos)} minutos\n",
    "    Combustible disponible: {sum(combustible.values())}\n",
    "    \"\"\"\n",
    "print(informe(\"Satruno\",24,48,60,principal=10000,externo=10000))"
   ]
  },
  {
   "cell_type": "markdown",
   "metadata": {},
   "source": [
    "Debido a que el combustible que queda en los tanques es específico de cada \n",
    "\n",
    "tanque, actualiza la función para usar el nombre de cada tanque en el informe:"
   ]
  },
  {
   "cell_type": "code",
   "execution_count": null,
   "metadata": {},
   "outputs": [],
   "source": [
    "# Escribe tu nueva función\n",
    "\n",
    "def mission_report(destination, *minutes, **fuel_reservoirs):\n",
    "    main_report = f\"\"\"\n",
    "    Mission to {destination}\n",
    "    Total travel time: {sum(minutes)} minutes\n",
    "    Total fuel left: {sum(fuel_reservoirs.values())}\n",
    "    \"\"\"\n",
    "    for tank_name, gallons in fuel_reservoirs.items():\n",
    "        main_report += f\"{tank_name} tank --> {gallons} gallons left\\n\"\n",
    "    return main_report\n",
    "\n",
    "print(mission_report(\"Moon\", 8, 11, 55, main=300000, external=200000))"
   ]
  },
  {
   "cell_type": "code",
   "execution_count": 4,
   "metadata": {},
   "outputs": [
    {
     "name": "stdout",
     "output_type": "stream",
     "text": [
      "\n",
      "    Mision: Satruno\n",
      "    Tiempo Total de la Micion: 132 minutos\n",
      "    Combustible disponible: 20000\n",
      "    \n"
     ]
    }
   ],
   "source": [
    "# Escribe tu nueva función de reporte considerando lo anterior\n",
    "def informe(destino, *minutos, **combustible):\n",
    "    return f\"\"\"\n",
    "    Mision: {destino}\n",
    "    Tiempo Total de la Micion: {sum(minutos)} minutos\n",
    "    Combustible disponible: {sum(combustible.values())}\n",
    "    \"\"\"\n",
    "    for tanque, galon in combustible.items():\n",
    "        reporte_prin += f\"{tanque} tankl --> {galon} galon izquierdo\\n\"\n",
    "    return reporte_prin\n",
    "\n",
    "print(informe(\"Satruno\",24,48,60,principal=10000,externo=10000))"
   ]
  }
 ],
 "metadata": {
  "interpreter": {
   "hash": "0522716138fa42cc151deac52772c9b430dc2b53a9e18b716a9f76a64ab2eaed"
  },
  "kernelspec": {
   "display_name": "Python 3.9.10 64-bit (windows store)",
   "language": "python",
   "name": "python3"
  },
  "language_info": {
   "codemirror_mode": {
    "name": "ipython",
    "version": 3
   },
   "file_extension": ".py",
   "mimetype": "text/x-python",
   "name": "python",
   "nbconvert_exporter": "python",
   "pygments_lexer": "ipython3",
   "version": "3.9.10"
  },
  "orig_nbformat": 4
 },
 "nbformat": 4,
 "nbformat_minor": 2
}
